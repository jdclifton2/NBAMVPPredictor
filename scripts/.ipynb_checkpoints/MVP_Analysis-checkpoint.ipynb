{
 "cells": [
  {
   "cell_type": "markdown",
   "metadata": {},
   "source": [
    "# Authors - Justin Clifton, Julia Januchowski"
   ]
  },
  {
   "cell_type": "markdown",
   "metadata": {},
   "source": [
    "---\n",
    "## Table of Contents (Work In Progress)\n",
    "\n",
    "1. [Introduction](#intro)\n",
    "2. [Basic Exploration & Cleaning](#cleaning) \n",
    "3. [Data Visualization](#visualization)\n",
    "4. [Modeling](#modeling)\n",
    "---"
   ]
  },
  {
   "cell_type": "markdown",
   "metadata": {},
   "source": [
    "\n",
    "## Introduction <a class=\"anchor\" id=\"intro\"></a>\n",
    "\n"
   ]
  },
  {
   "cell_type": "markdown",
   "metadata": {},
   "source": [
    "In this notebook, we will be extending the work that was done in this [project](https://github.com/juliajanu/Math475_Project_4-/blob/master/nba_stats.ipynb) by using the dataset that was created. We will analyze the data and attempt to create a useful model for predicting the NBA MVP."
   ]
  },
  {
   "cell_type": "code",
   "execution_count": 116,
   "metadata": {},
   "outputs": [],
   "source": [
    "import pandas as pd\n",
    "from bs4 import BeautifulSoup\n",
    "import requests\n",
    "import numpy as np\n",
    "import seaborn as sns\n",
    "import matplotlib.pyplot as plt\n",
    "from sklearn.pipeline import make_pipeline\n",
    "from sklearn.model_selection import train_test_split\n",
    "\n",
    "#models\n",
    "from sklearn.ensemble import RandomForestClassifier as RFC\n",
    "from sklearn.neighbors import KNeighborsClassifier\n",
    "from sklearn.ensemble import GradientBoostingClassifier as GBC\n",
    "from sklearn.ensemble import StackingClassifier\n",
    "from sklearn.linear_model import LogisticRegression\n",
    "from sklearn.ensemble import AdaBoostClassifier as ABC\n",
    "\n",
    "#feature selection\n",
    "from sklearn.feature_selection import SelectKBest, f_classif\n",
    "from sklearn.model_selection import GridSearchCV\n",
    "\n",
    "#scalers\n",
    "from sklearn.preprocessing import StandardScaler\n",
    "\n",
    "#score function\n",
    "from sklearn.metrics import f1_score\n",
    "from sklearn.metrics import accuracy_score\n",
    "from sklearn.metrics import confusion_matrix"
   ]
  },
  {
   "cell_type": "markdown",
   "metadata": {},
   "source": [
    "## Basic Exploration & Cleaning <a class=\"anchor\" id=\"cleaning\"></a>"
   ]
  },
  {
   "cell_type": "code",
   "execution_count": 117,
   "metadata": {},
   "outputs": [],
   "source": [
    "stats_df = pd.read_csv('NBA_Stats_MVP.csv')"
   ]
  },
  {
   "cell_type": "code",
   "execution_count": 118,
   "metadata": {},
   "outputs": [
    {
     "data": {
      "text/html": [
       "<div>\n",
       "<style scoped>\n",
       "    .dataframe tbody tr th:only-of-type {\n",
       "        vertical-align: middle;\n",
       "    }\n",
       "\n",
       "    .dataframe tbody tr th {\n",
       "        vertical-align: top;\n",
       "    }\n",
       "\n",
       "    .dataframe thead th {\n",
       "        text-align: right;\n",
       "    }\n",
       "</style>\n",
       "<table border=\"1\" class=\"dataframe\">\n",
       "  <thead>\n",
       "    <tr style=\"text-align: right;\">\n",
       "      <th></th>\n",
       "      <th>Year</th>\n",
       "      <th>Pos</th>\n",
       "      <th>Age</th>\n",
       "      <th>Tm</th>\n",
       "      <th>G</th>\n",
       "      <th>GS</th>\n",
       "      <th>MP</th>\n",
       "      <th>PER</th>\n",
       "      <th>TS%</th>\n",
       "      <th>3PAr</th>\n",
       "      <th>...</th>\n",
       "      <th>TRB</th>\n",
       "      <th>AST</th>\n",
       "      <th>STL</th>\n",
       "      <th>BLK</th>\n",
       "      <th>TOV</th>\n",
       "      <th>PF</th>\n",
       "      <th>PTS</th>\n",
       "      <th>is_allstar</th>\n",
       "      <th>Name</th>\n",
       "      <th>was_mvp</th>\n",
       "    </tr>\n",
       "  </thead>\n",
       "  <tbody>\n",
       "    <tr>\n",
       "      <th>0</th>\n",
       "      <td>1974.0</td>\n",
       "      <td>C</td>\n",
       "      <td>27.0</td>\n",
       "      <td>HOU</td>\n",
       "      <td>79.0</td>\n",
       "      <td>NaN</td>\n",
       "      <td>2459.0</td>\n",
       "      <td>15.9</td>\n",
       "      <td>0.516</td>\n",
       "      <td>NaN</td>\n",
       "      <td>...</td>\n",
       "      <td>923.0</td>\n",
       "      <td>166.0</td>\n",
       "      <td>80.0</td>\n",
       "      <td>104.0</td>\n",
       "      <td>NaN</td>\n",
       "      <td>227.0</td>\n",
       "      <td>865.0</td>\n",
       "      <td>0</td>\n",
       "      <td>Zaid Abdul-Aziz</td>\n",
       "      <td>0</td>\n",
       "    </tr>\n",
       "    <tr>\n",
       "      <th>1</th>\n",
       "      <td>1974.0</td>\n",
       "      <td>C</td>\n",
       "      <td>26.0</td>\n",
       "      <td>MIL</td>\n",
       "      <td>81.0</td>\n",
       "      <td>NaN</td>\n",
       "      <td>3548.0</td>\n",
       "      <td>24.4</td>\n",
       "      <td>0.564</td>\n",
       "      <td>NaN</td>\n",
       "      <td>...</td>\n",
       "      <td>1178.0</td>\n",
       "      <td>386.0</td>\n",
       "      <td>112.0</td>\n",
       "      <td>283.0</td>\n",
       "      <td>NaN</td>\n",
       "      <td>238.0</td>\n",
       "      <td>2191.0</td>\n",
       "      <td>1</td>\n",
       "      <td>Kareem Abdul-Jabbar</td>\n",
       "      <td>1</td>\n",
       "    </tr>\n",
       "    <tr>\n",
       "      <th>2</th>\n",
       "      <td>1974.0</td>\n",
       "      <td>SF</td>\n",
       "      <td>26.0</td>\n",
       "      <td>DET</td>\n",
       "      <td>74.0</td>\n",
       "      <td>NaN</td>\n",
       "      <td>2298.0</td>\n",
       "      <td>10.9</td>\n",
       "      <td>0.457</td>\n",
       "      <td>NaN</td>\n",
       "      <td>...</td>\n",
       "      <td>448.0</td>\n",
       "      <td>141.0</td>\n",
       "      <td>110.0</td>\n",
       "      <td>12.0</td>\n",
       "      <td>NaN</td>\n",
       "      <td>242.0</td>\n",
       "      <td>759.0</td>\n",
       "      <td>0</td>\n",
       "      <td>Don Adams</td>\n",
       "      <td>0</td>\n",
       "    </tr>\n",
       "    <tr>\n",
       "      <th>3</th>\n",
       "      <td>1974.0</td>\n",
       "      <td>PG</td>\n",
       "      <td>27.0</td>\n",
       "      <td>CHI</td>\n",
       "      <td>55.0</td>\n",
       "      <td>NaN</td>\n",
       "      <td>618.0</td>\n",
       "      <td>10.0</td>\n",
       "      <td>0.447</td>\n",
       "      <td>NaN</td>\n",
       "      <td>...</td>\n",
       "      <td>69.0</td>\n",
       "      <td>56.0</td>\n",
       "      <td>36.0</td>\n",
       "      <td>1.0</td>\n",
       "      <td>NaN</td>\n",
       "      <td>63.0</td>\n",
       "      <td>182.0</td>\n",
       "      <td>0</td>\n",
       "      <td>Rick Adelman</td>\n",
       "      <td>0</td>\n",
       "    </tr>\n",
       "    <tr>\n",
       "      <th>4</th>\n",
       "      <td>1974.0</td>\n",
       "      <td>PG</td>\n",
       "      <td>26.0</td>\n",
       "      <td>MIL</td>\n",
       "      <td>72.0</td>\n",
       "      <td>NaN</td>\n",
       "      <td>2388.0</td>\n",
       "      <td>18.8</td>\n",
       "      <td>0.536</td>\n",
       "      <td>NaN</td>\n",
       "      <td>...</td>\n",
       "      <td>291.0</td>\n",
       "      <td>374.0</td>\n",
       "      <td>137.0</td>\n",
       "      <td>22.0</td>\n",
       "      <td>NaN</td>\n",
       "      <td>215.0</td>\n",
       "      <td>1268.0</td>\n",
       "      <td>0</td>\n",
       "      <td>Lucius Allen</td>\n",
       "      <td>0</td>\n",
       "    </tr>\n",
       "  </tbody>\n",
       "</table>\n",
       "<p>5 rows × 52 columns</p>\n",
       "</div>"
      ],
      "text/plain": [
       "     Year Pos   Age   Tm     G  GS      MP   PER    TS%  3PAr  ...     TRB  \\\n",
       "0  1974.0   C  27.0  HOU  79.0 NaN  2459.0  15.9  0.516   NaN  ...   923.0   \n",
       "1  1974.0   C  26.0  MIL  81.0 NaN  3548.0  24.4  0.564   NaN  ...  1178.0   \n",
       "2  1974.0  SF  26.0  DET  74.0 NaN  2298.0  10.9  0.457   NaN  ...   448.0   \n",
       "3  1974.0  PG  27.0  CHI  55.0 NaN   618.0  10.0  0.447   NaN  ...    69.0   \n",
       "4  1974.0  PG  26.0  MIL  72.0 NaN  2388.0  18.8  0.536   NaN  ...   291.0   \n",
       "\n",
       "     AST    STL    BLK  TOV     PF     PTS  is_allstar                 Name  \\\n",
       "0  166.0   80.0  104.0  NaN  227.0   865.0           0      Zaid Abdul-Aziz   \n",
       "1  386.0  112.0  283.0  NaN  238.0  2191.0           1  Kareem Abdul-Jabbar   \n",
       "2  141.0  110.0   12.0  NaN  242.0   759.0           0            Don Adams   \n",
       "3   56.0   36.0    1.0  NaN   63.0   182.0           0         Rick Adelman   \n",
       "4  374.0  137.0   22.0  NaN  215.0  1268.0           0         Lucius Allen   \n",
       "\n",
       "   was_mvp  \n",
       "0        0  \n",
       "1        1  \n",
       "2        0  \n",
       "3        0  \n",
       "4        0  \n",
       "\n",
       "[5 rows x 52 columns]"
      ]
     },
     "execution_count": 118,
     "metadata": {},
     "output_type": "execute_result"
    }
   ],
   "source": [
    "stats_df.head()"
   ]
  },
  {
   "cell_type": "code",
   "execution_count": 119,
   "metadata": {},
   "outputs": [
    {
     "data": {
      "text/html": [
       "<div>\n",
       "<style scoped>\n",
       "    .dataframe tbody tr th:only-of-type {\n",
       "        vertical-align: middle;\n",
       "    }\n",
       "\n",
       "    .dataframe tbody tr th {\n",
       "        vertical-align: top;\n",
       "    }\n",
       "\n",
       "    .dataframe thead th {\n",
       "        text-align: right;\n",
       "    }\n",
       "</style>\n",
       "<table border=\"1\" class=\"dataframe\">\n",
       "  <thead>\n",
       "    <tr style=\"text-align: right;\">\n",
       "      <th></th>\n",
       "      <th>Year</th>\n",
       "      <th>Age</th>\n",
       "      <th>G</th>\n",
       "      <th>GS</th>\n",
       "      <th>MP</th>\n",
       "      <th>PER</th>\n",
       "      <th>TS%</th>\n",
       "      <th>3PAr</th>\n",
       "      <th>FTr</th>\n",
       "      <th>ORB%</th>\n",
       "      <th>...</th>\n",
       "      <th>DRB</th>\n",
       "      <th>TRB</th>\n",
       "      <th>AST</th>\n",
       "      <th>STL</th>\n",
       "      <th>BLK</th>\n",
       "      <th>TOV</th>\n",
       "      <th>PF</th>\n",
       "      <th>PTS</th>\n",
       "      <th>is_allstar</th>\n",
       "      <th>was_mvp</th>\n",
       "    </tr>\n",
       "  </thead>\n",
       "  <tbody>\n",
       "    <tr>\n",
       "      <th>count</th>\n",
       "      <td>20797.000000</td>\n",
       "      <td>20797.000000</td>\n",
       "      <td>20797.000000</td>\n",
       "      <td>18233.000000</td>\n",
       "      <td>20797.000000</td>\n",
       "      <td>20792.000000</td>\n",
       "      <td>20715.000000</td>\n",
       "      <td>18839.000000</td>\n",
       "      <td>20703.000000</td>\n",
       "      <td>20792.000000</td>\n",
       "      <td>...</td>\n",
       "      <td>20797.000000</td>\n",
       "      <td>20797.000000</td>\n",
       "      <td>20797.000000</td>\n",
       "      <td>20797.000000</td>\n",
       "      <td>20797.000000</td>\n",
       "      <td>19645.000000</td>\n",
       "      <td>20797.000000</td>\n",
       "      <td>20797.000000</td>\n",
       "      <td>20797.000000</td>\n",
       "      <td>20797.000000</td>\n",
       "    </tr>\n",
       "    <tr>\n",
       "      <th>mean</th>\n",
       "      <td>1998.155840</td>\n",
       "      <td>26.773477</td>\n",
       "      <td>50.263836</td>\n",
       "      <td>23.593375</td>\n",
       "      <td>1180.121796</td>\n",
       "      <td>12.453867</td>\n",
       "      <td>0.502274</td>\n",
       "      <td>0.158604</td>\n",
       "      <td>0.318799</td>\n",
       "      <td>6.181565</td>\n",
       "      <td>...</td>\n",
       "      <td>147.199404</td>\n",
       "      <td>209.388614</td>\n",
       "      <td>112.975237</td>\n",
       "      <td>39.897052</td>\n",
       "      <td>24.470260</td>\n",
       "      <td>73.939832</td>\n",
       "      <td>111.226860</td>\n",
       "      <td>496.276242</td>\n",
       "      <td>0.039813</td>\n",
       "      <td>0.002116</td>\n",
       "    </tr>\n",
       "    <tr>\n",
       "      <th>std</th>\n",
       "      <td>12.232484</td>\n",
       "      <td>3.945470</td>\n",
       "      <td>26.681105</td>\n",
       "      <td>28.632387</td>\n",
       "      <td>929.215744</td>\n",
       "      <td>6.100548</td>\n",
       "      <td>0.093337</td>\n",
       "      <td>0.187495</td>\n",
       "      <td>0.226552</td>\n",
       "      <td>4.872685</td>\n",
       "      <td>...</td>\n",
       "      <td>145.921912</td>\n",
       "      <td>207.772110</td>\n",
       "      <td>137.240043</td>\n",
       "      <td>38.713053</td>\n",
       "      <td>36.935084</td>\n",
       "      <td>67.713803</td>\n",
       "      <td>82.445297</td>\n",
       "      <td>484.090240</td>\n",
       "      <td>0.195525</td>\n",
       "      <td>0.045949</td>\n",
       "    </tr>\n",
       "    <tr>\n",
       "      <th>min</th>\n",
       "      <td>1974.000000</td>\n",
       "      <td>18.000000</td>\n",
       "      <td>1.000000</td>\n",
       "      <td>0.000000</td>\n",
       "      <td>0.000000</td>\n",
       "      <td>-90.600000</td>\n",
       "      <td>0.000000</td>\n",
       "      <td>0.000000</td>\n",
       "      <td>0.000000</td>\n",
       "      <td>0.000000</td>\n",
       "      <td>...</td>\n",
       "      <td>0.000000</td>\n",
       "      <td>0.000000</td>\n",
       "      <td>0.000000</td>\n",
       "      <td>0.000000</td>\n",
       "      <td>0.000000</td>\n",
       "      <td>0.000000</td>\n",
       "      <td>0.000000</td>\n",
       "      <td>0.000000</td>\n",
       "      <td>0.000000</td>\n",
       "      <td>0.000000</td>\n",
       "    </tr>\n",
       "    <tr>\n",
       "      <th>25%</th>\n",
       "      <td>1988.000000</td>\n",
       "      <td>24.000000</td>\n",
       "      <td>27.000000</td>\n",
       "      <td>0.000000</td>\n",
       "      <td>325.000000</td>\n",
       "      <td>9.800000</td>\n",
       "      <td>0.471000</td>\n",
       "      <td>0.005000</td>\n",
       "      <td>0.199000</td>\n",
       "      <td>2.600000</td>\n",
       "      <td>...</td>\n",
       "      <td>33.000000</td>\n",
       "      <td>48.000000</td>\n",
       "      <td>18.000000</td>\n",
       "      <td>9.000000</td>\n",
       "      <td>3.000000</td>\n",
       "      <td>18.000000</td>\n",
       "      <td>37.000000</td>\n",
       "      <td>100.000000</td>\n",
       "      <td>0.000000</td>\n",
       "      <td>0.000000</td>\n",
       "    </tr>\n",
       "    <tr>\n",
       "      <th>50%</th>\n",
       "      <td>1999.000000</td>\n",
       "      <td>26.000000</td>\n",
       "      <td>56.000000</td>\n",
       "      <td>8.000000</td>\n",
       "      <td>1013.000000</td>\n",
       "      <td>12.700000</td>\n",
       "      <td>0.514000</td>\n",
       "      <td>0.064000</td>\n",
       "      <td>0.286000</td>\n",
       "      <td>5.400000</td>\n",
       "      <td>...</td>\n",
       "      <td>106.000000</td>\n",
       "      <td>149.000000</td>\n",
       "      <td>64.000000</td>\n",
       "      <td>29.000000</td>\n",
       "      <td>11.000000</td>\n",
       "      <td>55.000000</td>\n",
       "      <td>102.000000</td>\n",
       "      <td>348.000000</td>\n",
       "      <td>0.000000</td>\n",
       "      <td>0.000000</td>\n",
       "    </tr>\n",
       "    <tr>\n",
       "      <th>75%</th>\n",
       "      <td>2009.000000</td>\n",
       "      <td>29.000000</td>\n",
       "      <td>76.000000</td>\n",
       "      <td>45.000000</td>\n",
       "      <td>1926.000000</td>\n",
       "      <td>15.600000</td>\n",
       "      <td>0.549000</td>\n",
       "      <td>0.288000</td>\n",
       "      <td>0.392000</td>\n",
       "      <td>9.000000</td>\n",
       "      <td>...</td>\n",
       "      <td>212.000000</td>\n",
       "      <td>302.000000</td>\n",
       "      <td>157.000000</td>\n",
       "      <td>60.000000</td>\n",
       "      <td>29.000000</td>\n",
       "      <td>112.000000</td>\n",
       "      <td>174.000000</td>\n",
       "      <td>764.000000</td>\n",
       "      <td>0.000000</td>\n",
       "      <td>0.000000</td>\n",
       "    </tr>\n",
       "    <tr>\n",
       "      <th>max</th>\n",
       "      <td>2017.000000</td>\n",
       "      <td>44.000000</td>\n",
       "      <td>87.000000</td>\n",
       "      <td>83.000000</td>\n",
       "      <td>3638.000000</td>\n",
       "      <td>129.100000</td>\n",
       "      <td>1.136000</td>\n",
       "      <td>1.000000</td>\n",
       "      <td>6.000000</td>\n",
       "      <td>100.000000</td>\n",
       "      <td>...</td>\n",
       "      <td>1111.000000</td>\n",
       "      <td>1530.000000</td>\n",
       "      <td>1164.000000</td>\n",
       "      <td>301.000000</td>\n",
       "      <td>456.000000</td>\n",
       "      <td>464.000000</td>\n",
       "      <td>386.000000</td>\n",
       "      <td>3041.000000</td>\n",
       "      <td>1.000000</td>\n",
       "      <td>1.000000</td>\n",
       "    </tr>\n",
       "  </tbody>\n",
       "</table>\n",
       "<p>8 rows × 49 columns</p>\n",
       "</div>"
      ],
      "text/plain": [
       "               Year           Age             G            GS            MP  \\\n",
       "count  20797.000000  20797.000000  20797.000000  18233.000000  20797.000000   \n",
       "mean    1998.155840     26.773477     50.263836     23.593375   1180.121796   \n",
       "std       12.232484      3.945470     26.681105     28.632387    929.215744   \n",
       "min     1974.000000     18.000000      1.000000      0.000000      0.000000   \n",
       "25%     1988.000000     24.000000     27.000000      0.000000    325.000000   \n",
       "50%     1999.000000     26.000000     56.000000      8.000000   1013.000000   \n",
       "75%     2009.000000     29.000000     76.000000     45.000000   1926.000000   \n",
       "max     2017.000000     44.000000     87.000000     83.000000   3638.000000   \n",
       "\n",
       "                PER           TS%          3PAr           FTr          ORB%  \\\n",
       "count  20792.000000  20715.000000  18839.000000  20703.000000  20792.000000   \n",
       "mean      12.453867      0.502274      0.158604      0.318799      6.181565   \n",
       "std        6.100548      0.093337      0.187495      0.226552      4.872685   \n",
       "min      -90.600000      0.000000      0.000000      0.000000      0.000000   \n",
       "25%        9.800000      0.471000      0.005000      0.199000      2.600000   \n",
       "50%       12.700000      0.514000      0.064000      0.286000      5.400000   \n",
       "75%       15.600000      0.549000      0.288000      0.392000      9.000000   \n",
       "max      129.100000      1.136000      1.000000      6.000000    100.000000   \n",
       "\n",
       "       ...           DRB           TRB           AST           STL  \\\n",
       "count  ...  20797.000000  20797.000000  20797.000000  20797.000000   \n",
       "mean   ...    147.199404    209.388614    112.975237     39.897052   \n",
       "std    ...    145.921912    207.772110    137.240043     38.713053   \n",
       "min    ...      0.000000      0.000000      0.000000      0.000000   \n",
       "25%    ...     33.000000     48.000000     18.000000      9.000000   \n",
       "50%    ...    106.000000    149.000000     64.000000     29.000000   \n",
       "75%    ...    212.000000    302.000000    157.000000     60.000000   \n",
       "max    ...   1111.000000   1530.000000   1164.000000    301.000000   \n",
       "\n",
       "                BLK           TOV            PF           PTS    is_allstar  \\\n",
       "count  20797.000000  19645.000000  20797.000000  20797.000000  20797.000000   \n",
       "mean      24.470260     73.939832    111.226860    496.276242      0.039813   \n",
       "std       36.935084     67.713803     82.445297    484.090240      0.195525   \n",
       "min        0.000000      0.000000      0.000000      0.000000      0.000000   \n",
       "25%        3.000000     18.000000     37.000000    100.000000      0.000000   \n",
       "50%       11.000000     55.000000    102.000000    348.000000      0.000000   \n",
       "75%       29.000000    112.000000    174.000000    764.000000      0.000000   \n",
       "max      456.000000    464.000000    386.000000   3041.000000      1.000000   \n",
       "\n",
       "            was_mvp  \n",
       "count  20797.000000  \n",
       "mean       0.002116  \n",
       "std        0.045949  \n",
       "min        0.000000  \n",
       "25%        0.000000  \n",
       "50%        0.000000  \n",
       "75%        0.000000  \n",
       "max        1.000000  \n",
       "\n",
       "[8 rows x 49 columns]"
      ]
     },
     "execution_count": 119,
     "metadata": {},
     "output_type": "execute_result"
    }
   ],
   "source": [
    "stats_df.describe()"
   ]
  },
  {
   "cell_type": "code",
   "execution_count": 120,
   "metadata": {
    "scrolled": true
   },
   "outputs": [
    {
     "data": {
      "text/plain": [
       "Year          False\n",
       "Pos           False\n",
       "Age           False\n",
       "Tm            False\n",
       "G             False\n",
       "GS             True\n",
       "MP            False\n",
       "PER            True\n",
       "TS%            True\n",
       "3PAr           True\n",
       "FTr            True\n",
       "ORB%           True\n",
       "DRB%           True\n",
       "TRB%           True\n",
       "AST%           True\n",
       "STL%           True\n",
       "BLK%           True\n",
       "TOV%           True\n",
       "USG%           True\n",
       "OWS           False\n",
       "DWS           False\n",
       "WS            False\n",
       "WS/48          True\n",
       "OBPM          False\n",
       "DBPM          False\n",
       "BPM           False\n",
       "VORP          False\n",
       "FG            False\n",
       "FGA           False\n",
       "FG%            True\n",
       "3P             True\n",
       "3PA            True\n",
       "3P%            True\n",
       "2P            False\n",
       "2PA           False\n",
       "2P%            True\n",
       "eFG%           True\n",
       "FT            False\n",
       "FTA           False\n",
       "FT%            True\n",
       "ORB           False\n",
       "DRB           False\n",
       "TRB           False\n",
       "AST           False\n",
       "STL           False\n",
       "BLK           False\n",
       "TOV            True\n",
       "PF            False\n",
       "PTS           False\n",
       "is_allstar    False\n",
       "Name          False\n",
       "was_mvp       False\n",
       "dtype: bool"
      ]
     },
     "execution_count": 120,
     "metadata": {},
     "output_type": "execute_result"
    }
   ],
   "source": [
    "stats_df.isnull().sum() > 0"
   ]
  },
  {
   "cell_type": "code",
   "execution_count": 121,
   "metadata": {},
   "outputs": [
    {
     "name": "stdout",
     "output_type": "stream",
     "text": [
      "<class 'pandas.core.frame.DataFrame'>\n",
      "RangeIndex: 20797 entries, 0 to 20796\n",
      "Data columns (total 52 columns):\n",
      " #   Column      Non-Null Count  Dtype  \n",
      "---  ------      --------------  -----  \n",
      " 0   Year        20797 non-null  float64\n",
      " 1   Pos         20797 non-null  object \n",
      " 2   Age         20797 non-null  float64\n",
      " 3   Tm          20797 non-null  object \n",
      " 4   G           20797 non-null  float64\n",
      " 5   GS          18233 non-null  float64\n",
      " 6   MP          20797 non-null  float64\n",
      " 7   PER         20792 non-null  float64\n",
      " 8   TS%         20715 non-null  float64\n",
      " 9   3PAr        18839 non-null  float64\n",
      " 10  FTr         20703 non-null  float64\n",
      " 11  ORB%        20792 non-null  float64\n",
      " 12  DRB%        20792 non-null  float64\n",
      " 13  TRB%        20792 non-null  float64\n",
      " 14  AST%        20792 non-null  float64\n",
      " 15  STL%        20792 non-null  float64\n",
      " 16  BLK%        20792 non-null  float64\n",
      " 17  TOV%        19582 non-null  float64\n",
      " 18  USG%        19640 non-null  float64\n",
      " 19  OWS         20797 non-null  float64\n",
      " 20  DWS         20797 non-null  float64\n",
      " 21  WS          20797 non-null  float64\n",
      " 22  WS/48       20792 non-null  float64\n",
      " 23  OBPM        20797 non-null  float64\n",
      " 24  DBPM        20797 non-null  float64\n",
      " 25  BPM         20797 non-null  float64\n",
      " 26  VORP        20797 non-null  float64\n",
      " 27  FG          20797 non-null  float64\n",
      " 28  FGA         20797 non-null  float64\n",
      " 29  FG%         20703 non-null  float64\n",
      " 30  3P          18927 non-null  float64\n",
      " 31  3PA         18927 non-null  float64\n",
      " 32  3P%         15416 non-null  float64\n",
      " 33  2P          20797 non-null  float64\n",
      " 34  2PA         20797 non-null  float64\n",
      " 35  2P%         20674 non-null  float64\n",
      " 36  eFG%        20703 non-null  float64\n",
      " 37  FT          20797 non-null  float64\n",
      " 38  FTA         20797 non-null  float64\n",
      " 39  FT%         20005 non-null  float64\n",
      " 40  ORB         20797 non-null  float64\n",
      " 41  DRB         20797 non-null  float64\n",
      " 42  TRB         20797 non-null  float64\n",
      " 43  AST         20797 non-null  float64\n",
      " 44  STL         20797 non-null  float64\n",
      " 45  BLK         20797 non-null  float64\n",
      " 46  TOV         19645 non-null  float64\n",
      " 47  PF          20797 non-null  float64\n",
      " 48  PTS         20797 non-null  float64\n",
      " 49  is_allstar  20797 non-null  int64  \n",
      " 50  Name        20797 non-null  object \n",
      " 51  was_mvp     20797 non-null  int64  \n",
      "dtypes: float64(47), int64(2), object(3)\n",
      "memory usage: 8.3+ MB\n"
     ]
    }
   ],
   "source": [
    "stats_df.info()"
   ]
  },
  {
   "cell_type": "code",
   "execution_count": 122,
   "metadata": {},
   "outputs": [],
   "source": [
    "stats_df.fillna(0, inplace = True)"
   ]
  },
  {
   "cell_type": "code",
   "execution_count": 123,
   "metadata": {},
   "outputs": [
    {
     "data": {
      "text/plain": [
       "Year          False\n",
       "Pos           False\n",
       "Age           False\n",
       "Tm            False\n",
       "G             False\n",
       "GS            False\n",
       "MP            False\n",
       "PER           False\n",
       "TS%           False\n",
       "3PAr          False\n",
       "FTr           False\n",
       "ORB%          False\n",
       "DRB%          False\n",
       "TRB%          False\n",
       "AST%          False\n",
       "STL%          False\n",
       "BLK%          False\n",
       "TOV%          False\n",
       "USG%          False\n",
       "OWS           False\n",
       "DWS           False\n",
       "WS            False\n",
       "WS/48         False\n",
       "OBPM          False\n",
       "DBPM          False\n",
       "BPM           False\n",
       "VORP          False\n",
       "FG            False\n",
       "FGA           False\n",
       "FG%           False\n",
       "3P            False\n",
       "3PA           False\n",
       "3P%           False\n",
       "2P            False\n",
       "2PA           False\n",
       "2P%           False\n",
       "eFG%          False\n",
       "FT            False\n",
       "FTA           False\n",
       "FT%           False\n",
       "ORB           False\n",
       "DRB           False\n",
       "TRB           False\n",
       "AST           False\n",
       "STL           False\n",
       "BLK           False\n",
       "TOV           False\n",
       "PF            False\n",
       "PTS           False\n",
       "is_allstar    False\n",
       "Name          False\n",
       "was_mvp       False\n",
       "dtype: bool"
      ]
     },
     "execution_count": 123,
     "metadata": {},
     "output_type": "execute_result"
    }
   ],
   "source": [
    "stats_df.isnull().sum() > 0"
   ]
  },
  {
   "cell_type": "code",
   "execution_count": 124,
   "metadata": {},
   "outputs": [],
   "source": [
    "pos_dummies = pd.get_dummies(stats_df.Pos,drop_first =True, prefix = \"Position\")\n",
    "stats_df = pd.concat([stats_df, pos_dummies], axis = 1)\n"
   ]
  },
  {
   "cell_type": "code",
   "execution_count": 125,
   "metadata": {
    "scrolled": true
   },
   "outputs": [
    {
     "data": {
      "text/html": [
       "<div>\n",
       "<style scoped>\n",
       "    .dataframe tbody tr th:only-of-type {\n",
       "        vertical-align: middle;\n",
       "    }\n",
       "\n",
       "    .dataframe tbody tr th {\n",
       "        vertical-align: top;\n",
       "    }\n",
       "\n",
       "    .dataframe thead th {\n",
       "        text-align: right;\n",
       "    }\n",
       "</style>\n",
       "<table border=\"1\" class=\"dataframe\">\n",
       "  <thead>\n",
       "    <tr style=\"text-align: right;\">\n",
       "      <th></th>\n",
       "      <th>Year</th>\n",
       "      <th>Pos</th>\n",
       "      <th>Age</th>\n",
       "      <th>Tm</th>\n",
       "      <th>G</th>\n",
       "      <th>GS</th>\n",
       "      <th>MP</th>\n",
       "      <th>PER</th>\n",
       "      <th>TS%</th>\n",
       "      <th>3PAr</th>\n",
       "      <th>...</th>\n",
       "      <th>Position_PG</th>\n",
       "      <th>Position_PG-SF</th>\n",
       "      <th>Position_PG-SG</th>\n",
       "      <th>Position_SF</th>\n",
       "      <th>Position_SF-PF</th>\n",
       "      <th>Position_SF-SG</th>\n",
       "      <th>Position_SG</th>\n",
       "      <th>Position_SG-PF</th>\n",
       "      <th>Position_SG-PG</th>\n",
       "      <th>Position_SG-SF</th>\n",
       "    </tr>\n",
       "  </thead>\n",
       "  <tbody>\n",
       "    <tr>\n",
       "      <th>0</th>\n",
       "      <td>1974.0</td>\n",
       "      <td>C</td>\n",
       "      <td>27.0</td>\n",
       "      <td>HOU</td>\n",
       "      <td>79.0</td>\n",
       "      <td>0.0</td>\n",
       "      <td>2459.0</td>\n",
       "      <td>15.9</td>\n",
       "      <td>0.516</td>\n",
       "      <td>0.000</td>\n",
       "      <td>...</td>\n",
       "      <td>0</td>\n",
       "      <td>0</td>\n",
       "      <td>0</td>\n",
       "      <td>0</td>\n",
       "      <td>0</td>\n",
       "      <td>0</td>\n",
       "      <td>0</td>\n",
       "      <td>0</td>\n",
       "      <td>0</td>\n",
       "      <td>0</td>\n",
       "    </tr>\n",
       "    <tr>\n",
       "      <th>1</th>\n",
       "      <td>1974.0</td>\n",
       "      <td>C</td>\n",
       "      <td>26.0</td>\n",
       "      <td>MIL</td>\n",
       "      <td>81.0</td>\n",
       "      <td>0.0</td>\n",
       "      <td>3548.0</td>\n",
       "      <td>24.4</td>\n",
       "      <td>0.564</td>\n",
       "      <td>0.000</td>\n",
       "      <td>...</td>\n",
       "      <td>0</td>\n",
       "      <td>0</td>\n",
       "      <td>0</td>\n",
       "      <td>0</td>\n",
       "      <td>0</td>\n",
       "      <td>0</td>\n",
       "      <td>0</td>\n",
       "      <td>0</td>\n",
       "      <td>0</td>\n",
       "      <td>0</td>\n",
       "    </tr>\n",
       "    <tr>\n",
       "      <th>2</th>\n",
       "      <td>1974.0</td>\n",
       "      <td>SF</td>\n",
       "      <td>26.0</td>\n",
       "      <td>DET</td>\n",
       "      <td>74.0</td>\n",
       "      <td>0.0</td>\n",
       "      <td>2298.0</td>\n",
       "      <td>10.9</td>\n",
       "      <td>0.457</td>\n",
       "      <td>0.000</td>\n",
       "      <td>...</td>\n",
       "      <td>0</td>\n",
       "      <td>0</td>\n",
       "      <td>0</td>\n",
       "      <td>1</td>\n",
       "      <td>0</td>\n",
       "      <td>0</td>\n",
       "      <td>0</td>\n",
       "      <td>0</td>\n",
       "      <td>0</td>\n",
       "      <td>0</td>\n",
       "    </tr>\n",
       "    <tr>\n",
       "      <th>3</th>\n",
       "      <td>1974.0</td>\n",
       "      <td>PG</td>\n",
       "      <td>27.0</td>\n",
       "      <td>CHI</td>\n",
       "      <td>55.0</td>\n",
       "      <td>0.0</td>\n",
       "      <td>618.0</td>\n",
       "      <td>10.0</td>\n",
       "      <td>0.447</td>\n",
       "      <td>0.000</td>\n",
       "      <td>...</td>\n",
       "      <td>1</td>\n",
       "      <td>0</td>\n",
       "      <td>0</td>\n",
       "      <td>0</td>\n",
       "      <td>0</td>\n",
       "      <td>0</td>\n",
       "      <td>0</td>\n",
       "      <td>0</td>\n",
       "      <td>0</td>\n",
       "      <td>0</td>\n",
       "    </tr>\n",
       "    <tr>\n",
       "      <th>4</th>\n",
       "      <td>1974.0</td>\n",
       "      <td>PG</td>\n",
       "      <td>26.0</td>\n",
       "      <td>MIL</td>\n",
       "      <td>72.0</td>\n",
       "      <td>0.0</td>\n",
       "      <td>2388.0</td>\n",
       "      <td>18.8</td>\n",
       "      <td>0.536</td>\n",
       "      <td>0.000</td>\n",
       "      <td>...</td>\n",
       "      <td>1</td>\n",
       "      <td>0</td>\n",
       "      <td>0</td>\n",
       "      <td>0</td>\n",
       "      <td>0</td>\n",
       "      <td>0</td>\n",
       "      <td>0</td>\n",
       "      <td>0</td>\n",
       "      <td>0</td>\n",
       "      <td>0</td>\n",
       "    </tr>\n",
       "    <tr>\n",
       "      <th>...</th>\n",
       "      <td>...</td>\n",
       "      <td>...</td>\n",
       "      <td>...</td>\n",
       "      <td>...</td>\n",
       "      <td>...</td>\n",
       "      <td>...</td>\n",
       "      <td>...</td>\n",
       "      <td>...</td>\n",
       "      <td>...</td>\n",
       "      <td>...</td>\n",
       "      <td>...</td>\n",
       "      <td>...</td>\n",
       "      <td>...</td>\n",
       "      <td>...</td>\n",
       "      <td>...</td>\n",
       "      <td>...</td>\n",
       "      <td>...</td>\n",
       "      <td>...</td>\n",
       "      <td>...</td>\n",
       "      <td>...</td>\n",
       "      <td>...</td>\n",
       "    </tr>\n",
       "    <tr>\n",
       "      <th>20792</th>\n",
       "      <td>2017.0</td>\n",
       "      <td>PF</td>\n",
       "      <td>24.0</td>\n",
       "      <td>CHO</td>\n",
       "      <td>62.0</td>\n",
       "      <td>58.0</td>\n",
       "      <td>1725.0</td>\n",
       "      <td>16.7</td>\n",
       "      <td>0.604</td>\n",
       "      <td>0.002</td>\n",
       "      <td>...</td>\n",
       "      <td>0</td>\n",
       "      <td>0</td>\n",
       "      <td>0</td>\n",
       "      <td>0</td>\n",
       "      <td>0</td>\n",
       "      <td>0</td>\n",
       "      <td>0</td>\n",
       "      <td>0</td>\n",
       "      <td>0</td>\n",
       "      <td>0</td>\n",
       "    </tr>\n",
       "    <tr>\n",
       "      <th>20793</th>\n",
       "      <td>2017.0</td>\n",
       "      <td>C</td>\n",
       "      <td>27.0</td>\n",
       "      <td>BOS</td>\n",
       "      <td>51.0</td>\n",
       "      <td>5.0</td>\n",
       "      <td>525.0</td>\n",
       "      <td>13.0</td>\n",
       "      <td>0.508</td>\n",
       "      <td>0.006</td>\n",
       "      <td>...</td>\n",
       "      <td>0</td>\n",
       "      <td>0</td>\n",
       "      <td>0</td>\n",
       "      <td>0</td>\n",
       "      <td>0</td>\n",
       "      <td>0</td>\n",
       "      <td>0</td>\n",
       "      <td>0</td>\n",
       "      <td>0</td>\n",
       "      <td>0</td>\n",
       "    </tr>\n",
       "    <tr>\n",
       "      <th>20794</th>\n",
       "      <td>2017.0</td>\n",
       "      <td>C</td>\n",
       "      <td>20.0</td>\n",
       "      <td>ORL</td>\n",
       "      <td>19.0</td>\n",
       "      <td>0.0</td>\n",
       "      <td>108.0</td>\n",
       "      <td>7.3</td>\n",
       "      <td>0.346</td>\n",
       "      <td>0.000</td>\n",
       "      <td>...</td>\n",
       "      <td>0</td>\n",
       "      <td>0</td>\n",
       "      <td>0</td>\n",
       "      <td>0</td>\n",
       "      <td>0</td>\n",
       "      <td>0</td>\n",
       "      <td>0</td>\n",
       "      <td>0</td>\n",
       "      <td>0</td>\n",
       "      <td>0</td>\n",
       "    </tr>\n",
       "    <tr>\n",
       "      <th>20795</th>\n",
       "      <td>2017.0</td>\n",
       "      <td>SF</td>\n",
       "      <td>22.0</td>\n",
       "      <td>CHI</td>\n",
       "      <td>44.0</td>\n",
       "      <td>18.0</td>\n",
       "      <td>843.0</td>\n",
       "      <td>6.9</td>\n",
       "      <td>0.503</td>\n",
       "      <td>0.448</td>\n",
       "      <td>...</td>\n",
       "      <td>0</td>\n",
       "      <td>0</td>\n",
       "      <td>0</td>\n",
       "      <td>1</td>\n",
       "      <td>0</td>\n",
       "      <td>0</td>\n",
       "      <td>0</td>\n",
       "      <td>0</td>\n",
       "      <td>0</td>\n",
       "      <td>0</td>\n",
       "    </tr>\n",
       "    <tr>\n",
       "      <th>20796</th>\n",
       "      <td>2017.0</td>\n",
       "      <td>C</td>\n",
       "      <td>19.0</td>\n",
       "      <td>LAL</td>\n",
       "      <td>38.0</td>\n",
       "      <td>11.0</td>\n",
       "      <td>609.0</td>\n",
       "      <td>17.0</td>\n",
       "      <td>0.547</td>\n",
       "      <td>0.013</td>\n",
       "      <td>...</td>\n",
       "      <td>0</td>\n",
       "      <td>0</td>\n",
       "      <td>0</td>\n",
       "      <td>0</td>\n",
       "      <td>0</td>\n",
       "      <td>0</td>\n",
       "      <td>0</td>\n",
       "      <td>0</td>\n",
       "      <td>0</td>\n",
       "      <td>0</td>\n",
       "    </tr>\n",
       "  </tbody>\n",
       "</table>\n",
       "<p>20797 rows × 67 columns</p>\n",
       "</div>"
      ],
      "text/plain": [
       "         Year Pos   Age   Tm     G    GS      MP   PER    TS%   3PAr  ...  \\\n",
       "0      1974.0   C  27.0  HOU  79.0   0.0  2459.0  15.9  0.516  0.000  ...   \n",
       "1      1974.0   C  26.0  MIL  81.0   0.0  3548.0  24.4  0.564  0.000  ...   \n",
       "2      1974.0  SF  26.0  DET  74.0   0.0  2298.0  10.9  0.457  0.000  ...   \n",
       "3      1974.0  PG  27.0  CHI  55.0   0.0   618.0  10.0  0.447  0.000  ...   \n",
       "4      1974.0  PG  26.0  MIL  72.0   0.0  2388.0  18.8  0.536  0.000  ...   \n",
       "...       ...  ..   ...  ...   ...   ...     ...   ...    ...    ...  ...   \n",
       "20792  2017.0  PF  24.0  CHO  62.0  58.0  1725.0  16.7  0.604  0.002  ...   \n",
       "20793  2017.0   C  27.0  BOS  51.0   5.0   525.0  13.0  0.508  0.006  ...   \n",
       "20794  2017.0   C  20.0  ORL  19.0   0.0   108.0   7.3  0.346  0.000  ...   \n",
       "20795  2017.0  SF  22.0  CHI  44.0  18.0   843.0   6.9  0.503  0.448  ...   \n",
       "20796  2017.0   C  19.0  LAL  38.0  11.0   609.0  17.0  0.547  0.013  ...   \n",
       "\n",
       "       Position_PG  Position_PG-SF  Position_PG-SG  Position_SF  \\\n",
       "0                0               0               0            0   \n",
       "1                0               0               0            0   \n",
       "2                0               0               0            1   \n",
       "3                1               0               0            0   \n",
       "4                1               0               0            0   \n",
       "...            ...             ...             ...          ...   \n",
       "20792            0               0               0            0   \n",
       "20793            0               0               0            0   \n",
       "20794            0               0               0            0   \n",
       "20795            0               0               0            1   \n",
       "20796            0               0               0            0   \n",
       "\n",
       "       Position_SF-PF  Position_SF-SG  Position_SG  Position_SG-PF  \\\n",
       "0                   0               0            0               0   \n",
       "1                   0               0            0               0   \n",
       "2                   0               0            0               0   \n",
       "3                   0               0            0               0   \n",
       "4                   0               0            0               0   \n",
       "...               ...             ...          ...             ...   \n",
       "20792               0               0            0               0   \n",
       "20793               0               0            0               0   \n",
       "20794               0               0            0               0   \n",
       "20795               0               0            0               0   \n",
       "20796               0               0            0               0   \n",
       "\n",
       "       Position_SG-PG  Position_SG-SF  \n",
       "0                   0               0  \n",
       "1                   0               0  \n",
       "2                   0               0  \n",
       "3                   0               0  \n",
       "4                   0               0  \n",
       "...               ...             ...  \n",
       "20792               0               0  \n",
       "20793               0               0  \n",
       "20794               0               0  \n",
       "20795               0               0  \n",
       "20796               0               0  \n",
       "\n",
       "[20797 rows x 67 columns]"
      ]
     },
     "execution_count": 125,
     "metadata": {},
     "output_type": "execute_result"
    }
   ],
   "source": [
    "stats_df"
   ]
  },
  {
   "cell_type": "markdown",
   "metadata": {},
   "source": [
    "## Feature Engineering <a class=\"anchor\" id=\"engineering\"></a>"
   ]
  },
  {
   "cell_type": "markdown",
   "metadata": {},
   "source": [
    "The \"50–40–90 club\" is an informal statistic that requires a player to achieve 50% field goal percentage, 40% three-point field goal percentage and 90% free throw percentage over the course of a regular season. In NBA history, only eight players have recorded a 50–40–90 season. We will add this as a feature in our dataset. The NBA requires a player to make at least 300 field goals, 82 three-pointers, and 125 free throws to be eligible."
   ]
  },
  {
   "cell_type": "code",
   "execution_count": 126,
   "metadata": {
    "scrolled": true
   },
   "outputs": [
    {
     "data": {
      "text/plain": [
       "4461        Larry Bird\n",
       "4840        Larry Bird\n",
       "5541        Mark Price\n",
       "7787     Reggie Miller\n",
       "14137       Steve Nash\n",
       "14685    Dirk Nowitzki\n",
       "15243       Steve Nash\n",
       "15836       Steve Nash\n",
       "16436       Steve Nash\n",
       "17937     Kevin Durant\n",
       "19740    Stephen Curry\n",
       "Name: Name, dtype: object"
      ]
     },
     "execution_count": 126,
     "metadata": {},
     "output_type": "execute_result"
    }
   ],
   "source": [
    "club_50_40_90 = stats_df[(stats_df['FT%'] >= 0.9) & (stats_df['3P%'] >= .40) & (stats_df['FG%'] >= .5)\n",
    "                         & (stats_df['FGA'] >= 300) & (stats_df['3PA'] >= 82) & (stats_df['FTA'] >= 125)]\n",
    "club_50_40_90['Name']"
   ]
  },
  {
   "cell_type": "code",
   "execution_count": 127,
   "metadata": {},
   "outputs": [],
   "source": [
    "#makes a column where an entry gets a 0 if it does not match condition, 1 if it does.\n",
    "stats_df['50-40-90'] = np.where((stats_df['FT%'] >= 0.9) & (stats_df['3P%'] >= .40) & (stats_df['FG%'] >= .5) \n",
    "                         & (stats_df['FGA'] >= 300) & (stats_df['3PA'] >= 82) & (stats_df['FTA'] >= 125),1, 0)"
   ]
  },
  {
   "cell_type": "code",
   "execution_count": 128,
   "metadata": {},
   "outputs": [],
   "source": [
    "stats_df['injured'] = np.where((stats_df['G'] < 49),1, 0)"
   ]
  },
  {
   "cell_type": "markdown",
   "metadata": {},
   "source": [
    "This dataset lacks per game averages. We will add these as columns."
   ]
  },
  {
   "cell_type": "code",
   "execution_count": 129,
   "metadata": {},
   "outputs": [],
   "source": [
    "def per_game(stats_df, cols):\n",
    "    \"\"\"\n",
    "    returns a new data frame version of stats_df, where a per game average is added for each column name \n",
    "    contained within cols\n",
    "    \n",
    "    :param stats_df: A dataframe containing basketball stats.\n",
    "    :param cols: A list of column names where per game averages are desired.\n",
    "    :return: A new dataframe containing per game averages for stats contained within cols. \n",
    "    :rtype: Dataframe\n",
    "    \"\"\"\n",
    "    new_df = stats_df.copy()\n",
    "    for col in cols:\n",
    "        new_df[col + 'PG'] = stats_df[col]/stats_df['G']\n",
    "    return new_df"
   ]
  },
  {
   "cell_type": "code",
   "execution_count": 130,
   "metadata": {},
   "outputs": [],
   "source": [
    "per_game_cols = ['PTS', 'AST', 'ORB', 'DRB', 'TRB', 'STL', 'BLK', 'TOV', 'PF', 'FGA', 'FG', 'FT', 'FTA', 'MP']\n",
    "stats_df = per_game(stats_df, per_game_cols)"
   ]
  },
  {
   "cell_type": "code",
   "execution_count": 131,
   "metadata": {},
   "outputs": [],
   "source": [
    "stats_df['directly_invoved_off_PG'] = stats_df['PTSPG'] + stats_df[\"ASTPG\"]"
   ]
  },
  {
   "cell_type": "code",
   "execution_count": 132,
   "metadata": {},
   "outputs": [],
   "source": [
    "stats_df['directly_invoved_def_PG'] = stats_df['STLPG'] + stats_df[\"BLKPG\"]"
   ]
  },
  {
   "cell_type": "markdown",
   "metadata": {},
   "source": [
    "## Data Visualization <a class=\"anchor\" id=\"visualization\"></a>"
   ]
  },
  {
   "cell_type": "markdown",
   "metadata": {},
   "source": [
    "No injured player has ever won the MVP. This should be a helpful feature for our models."
   ]
  },
  {
   "cell_type": "code",
   "execution_count": 133,
   "metadata": {},
   "outputs": [
    {
     "data": {
      "text/plain": [
       "<AxesSubplot:xlabel='injured', ylabel='was_mvp'>"
      ]
     },
     "execution_count": 133,
     "metadata": {},
     "output_type": "execute_result"
    },
    {
     "data": {
      "image/png": "[encoded data removed]",
      "text/plain": [
       "<Figure size 432x288 with 1 Axes>"
      ]
     },
     "metadata": {
      "needs_background": "light"
     },
     "output_type": "display_data"
    }
   ],
   "source": [
    "sns.barplot(data = stats_df\n",
    "            ,x = 'injured'\n",
    "            ,y = 'was_mvp',\n",
    "            ci = None\n",
    "            )"
   ]
  },
  {
   "cell_type": "markdown",
   "metadata": {},
   "source": [
    "We will now look at all of our MVP players. "
   ]
  },
  {
   "cell_type": "code",
   "execution_count": 134,
   "metadata": {},
   "outputs": [
    {
     "data": {
      "text/plain": [
       "1        Kareem Abdul-Jabbar\n",
       "403               Bob McAdoo\n",
       "522      Kareem Abdul-Jabbar\n",
       "796      Kareem Abdul-Jabbar\n",
       "1490             Bill Walton\n",
       "1724            Moses Malone\n",
       "1870     Kareem Abdul-Jabbar\n",
       "2321           Julius Erving\n",
       "2813            Moses Malone\n",
       "3185            Moses Malone\n",
       "3369              Larry Bird\n",
       "3712              Larry Bird\n",
       "4077              Larry Bird\n",
       "4595           Magic Johnson\n",
       "5004          Michael Jordan\n",
       "5417           Magic Johnson\n",
       "5868           Magic Johnson\n",
       "6344          Michael Jordan\n",
       "6797          Michael Jordan\n",
       "7067         Charles Barkley\n",
       "7817         Hakeem Olajuwon\n",
       "8310          David Robinson\n",
       "8655          Michael Jordan\n",
       "9269             Karl Malone\n",
       "9779          Michael Jordan\n",
       "10360            Karl Malone\n",
       "10929       Shaquille O'Neal\n",
       "11308          Allen Iverson\n",
       "11764             Tim Duncan\n",
       "12249             Tim Duncan\n",
       "12793          Kevin Garnett\n",
       "13570             Steve Nash\n",
       "14137             Steve Nash\n",
       "14685          Dirk Nowitzki\n",
       "14940            Kobe Bryant\n",
       "15725           LeBron James\n",
       "16320           LeBron James\n",
       "17103           Derrick Rose\n",
       "17506           LeBron James\n",
       "18043           LeBron James\n",
       "18547           Kevin Durant\n",
       "19108          Stephen Curry\n",
       "19740          Stephen Curry\n",
       "20760      Russell Westbrook\n",
       "Name: Name, dtype: object"
      ]
     },
     "execution_count": 134,
     "metadata": {},
     "output_type": "execute_result"
    }
   ],
   "source": [
    "stats_df[stats_df[\"was_mvp\"] == 1]['Name']"
   ]
  },
  {
   "cell_type": "code",
   "execution_count": 135,
   "metadata": {},
   "outputs": [],
   "source": [
    "mvps_df = stats_df[stats_df[\"was_mvp\"] == 1]"
   ]
  },
  {
   "cell_type": "code",
   "execution_count": 136,
   "metadata": {},
   "outputs": [
    {
     "data": {
      "text/plain": [
       "<AxesSubplot:ylabel='PTSPG'>"
      ]
     },
     "execution_count": 136,
     "metadata": {},
     "output_type": "execute_result"
    },
    {
     "data": {
      "image/png": "[encoded data removed]",
      "text/plain": [
       "<Figure size 432x288 with 1 Axes>"
      ]
     },
     "metadata": {
      "needs_background": "light"
     },
     "output_type": "display_data"
    }
   ],
   "source": [
    "sns.scatterplot(data = mvps_df, x = range(len(mvps_df.index)), y = \"PTSPG\")"
   ]
  },
  {
   "cell_type": "code",
   "execution_count": 137,
   "metadata": {},
   "outputs": [
    {
     "data": {
      "text/plain": [
       "15.533333333333333"
      ]
     },
     "execution_count": 137,
     "metadata": {},
     "output_type": "execute_result"
    }
   ],
   "source": [
    "mvps_df['PTSPG'].min()"
   ]
  },
  {
   "cell_type": "code",
   "execution_count": 138,
   "metadata": {},
   "outputs": [],
   "source": [
    "stats_df['>15pts'] = np.where((stats_df['PTSPG'] >= 20),1, 0)"
   ]
  },
  {
   "cell_type": "code",
   "execution_count": 139,
   "metadata": {},
   "outputs": [
    {
     "data": {
      "text/plain": [
       "<AxesSubplot:ylabel='Age'>"
      ]
     },
     "execution_count": 139,
     "metadata": {},
     "output_type": "execute_result"
    },
    {
     "data": {
      "image/png": "[encoded data removed]",
      "text/plain": [
       "<Figure size 432x288 with 1 Axes>"
      ]
     },
     "metadata": {
      "needs_background": "light"
     },
     "output_type": "display_data"
    }
   ],
   "source": [
    "sns.scatterplot(data = mvps_df, x = range(len(mvps_df.index)), y = \"Age\")"
   ]
  },
  {
   "cell_type": "code",
   "execution_count": 140,
   "metadata": {},
   "outputs": [
    {
     "data": {
      "text/plain": [
       "22.0"
      ]
     },
     "execution_count": 140,
     "metadata": {},
     "output_type": "execute_result"
    }
   ],
   "source": [
    "mvps_df['Age'].min()"
   ]
  },
  {
   "cell_type": "code",
   "execution_count": 141,
   "metadata": {},
   "outputs": [],
   "source": [
    "stats_df['>22age'] = np.where((stats_df['PTSPG'] >= 22),1, 0)"
   ]
  },
  {
   "cell_type": "markdown",
   "metadata": {},
   "source": [
    "## Modeling <a class=\"anchor\" id=\"modeling\"></a>"
   ]
  },
  {
   "cell_type": "code",
   "execution_count": 142,
   "metadata": {},
   "outputs": [],
   "source": [
    "stats_df = stats_df.drop(columns = ['Pos', 'Name', 'Tm'])\n",
    "X = stats_df.drop(columns = ['was_mvp'])\n",
    "y = stats_df['was_mvp']"
   ]
  },
  {
   "cell_type": "code",
   "execution_count": 143,
   "metadata": {},
   "outputs": [],
   "source": [
    "X_train, X_test, y_train, y_test = train_test_split(X,y,train_size = 0.7, random_state = 23)"
   ]
  },
  {
   "cell_type": "markdown",
   "metadata": {},
   "source": [
    "This will serve as our base model."
   ]
  },
  {
   "cell_type": "code",
   "execution_count": 144,
   "metadata": {},
   "outputs": [
    {
     "data": {
      "text/plain": [
       "RandomForestClassifier()"
      ]
     },
     "execution_count": 144,
     "metadata": {},
     "output_type": "execute_result"
    }
   ],
   "source": [
    "random_classif = RFC(n_estimators=100)\n",
    "random_classif.fit(X_train, y_train)"
   ]
  },
  {
   "cell_type": "code",
   "execution_count": 145,
   "metadata": {},
   "outputs": [
    {
     "data": {
      "text/plain": [
       "<AxesSubplot:ylabel='cols'>"
      ]
     },
     "execution_count": 145,
     "metadata": {},
     "output_type": "execute_result"
    },
    {
     "data": {
      "image/png": "[encoded data removed]",
      "text/plain": [
       "<Figure size 1440x1440 with 1 Axes>"
      ]
     },
     "metadata": {
      "needs_background": "light"
     },
     "output_type": "display_data"
    }
   ],
   "source": [
    "def rf_feat_importance(m, df):\n",
    "    \"\"\"\n",
    "    This function will show us the feature importance according to a random forest model.\n",
    "    \n",
    "    :param m: The random forest model.\n",
    "    :param df: The dataframe.\n",
    "    :return: A dataframe of feature importances.\n",
    "    \"\"\"\n",
    "    return pd.DataFrame({'cols':df.columns, 'imp':m.feature_importances_}\n",
    "                       ).sort_values('imp', ascending=False)\n",
    "\n",
    "def plot_fi(fi):\n",
    "    \"\"\"\n",
    "    Function used for plotting feature importances from a random forest.\n",
    "    :param fi: A dataframe containing features and their importance.\n",
    "    :return: A plot of the feature importances. \n",
    "    \"\"\"\n",
    "    return fi.plot('cols', 'imp', 'barh', figsize=(20,20), legend=False)\n",
    "\n",
    "plot_fi(rf_feat_importance(random_classif, X_train)[:50])"
   ]
  },
  {
   "cell_type": "code",
   "execution_count": 146,
   "metadata": {},
   "outputs": [
    {
     "data": {
      "text/plain": [
       "0.5446518483924166"
      ]
     },
     "execution_count": 146,
     "metadata": {},
     "output_type": "execute_result"
    }
   ],
   "source": [
    "f1_score(y_test, random_classif.predict(X_test), average='macro')"
   ]
  },
  {
   "cell_type": "markdown",
   "metadata": {},
   "source": [
    "This model achieves a test f1 score of 54%. "
   ]
  },
  {
   "cell_type": "code",
   "execution_count": 147,
   "metadata": {},
   "outputs": [
    {
     "data": {
      "text/plain": [
       "Pipeline(steps=[('standardscaler', StandardScaler()),\n",
       "                ('randomforestclassifier', RandomForestClassifier())])"
      ]
     },
     "execution_count": 147,
     "metadata": {},
     "output_type": "execute_result"
    }
   ],
   "source": [
    "scaler = StandardScaler()\n",
    "random_classif2 = RFC(n_estimators=100)\n",
    "pipe = make_pipeline(scaler, random_classif2)\n",
    "pipe.fit(X_train, y_train)"
   ]
  },
  {
   "cell_type": "code",
   "execution_count": 148,
   "metadata": {},
   "outputs": [
    {
     "data": {
      "text/plain": [
       "0.5468565466157569"
      ]
     },
     "execution_count": 148,
     "metadata": {},
     "output_type": "execute_result"
    }
   ],
   "source": [
    "f1_score(y_test, pipe.predict(X_test), average='macro')"
   ]
  },
  {
   "cell_type": "code",
   "execution_count": 149,
   "metadata": {},
   "outputs": [
    {
     "data": {
      "text/plain": [
       "<AxesSubplot:ylabel='cols'>"
      ]
     },
     "execution_count": 149,
     "metadata": {},
     "output_type": "execute_result"
    },
    {
     "data": {
      "image/png": "[encoded data removed]",
      "text/plain": [
       "<Figure size 1440x1440 with 1 Axes>"
      ]
     },
     "metadata": {
      "needs_background": "light"
     },
     "output_type": "display_data"
    }
   ],
   "source": [
    "plot_fi(rf_feat_importance(pipe.steps[1][1], X_train))"
   ]
  },
  {
   "cell_type": "code",
   "execution_count": 150,
   "metadata": {},
   "outputs": [
    {
     "name": "stderr",
     "output_type": "stream",
     "text": [
      "/home/courier/.local/lib/python3.8/site-packages/sklearn/feature_selection/_univariate_selection.py:114: UserWarning: Features [49] are constant.\n",
      "  warnings.warn(\"Features %s are constant.\" % constant_features_idx,\n",
      "/home/courier/.local/lib/python3.8/site-packages/sklearn/feature_selection/_univariate_selection.py:116: RuntimeWarning: invalid value encountered in true_divide\n",
      "  f = msb / msw\n"
     ]
    },
    {
     "data": {
      "text/plain": [
       "Pipeline(steps=[('selectkbest', SelectKBest(k=20)),\n",
       "                ('standardscaler', StandardScaler()),\n",
       "                ('randomforestclassifier', RandomForestClassifier())])"
      ]
     },
     "execution_count": 150,
     "metadata": {},
     "output_type": "execute_result"
    }
   ],
   "source": [
    "selector2 = SelectKBest(f_classif, k = 20)\n",
    "scaler = StandardScaler()\n",
    "random_classif2 = RFC(n_estimators=100)\n",
    "pipe = make_pipeline(selector2, scaler, random_classif2)\n",
    "pipe.fit(X_train, y_train)"
   ]
  },
  {
   "cell_type": "code",
   "execution_count": 151,
   "metadata": {},
   "outputs": [
    {
     "data": {
      "text/plain": [
       "0.5901866635531751"
      ]
     },
     "execution_count": 151,
     "metadata": {},
     "output_type": "execute_result"
    }
   ],
   "source": [
    "f1_score(y_test, pipe.predict(X_test), average='macro')"
   ]
  },
  {
   "cell_type": "markdown",
   "metadata": {},
   "source": [
    "Since the position features are not important, we will drop them. "
   ]
  },
  {
   "cell_type": "code",
   "execution_count": 152,
   "metadata": {},
   "outputs": [],
   "source": [
    "columns = stats_df.columns"
   ]
  },
  {
   "cell_type": "code",
   "execution_count": 153,
   "metadata": {},
   "outputs": [],
   "source": [
    "pos_cols = [column for column in columns if 'Pos' in column]"
   ]
  },
  {
   "cell_type": "code",
   "execution_count": 154,
   "metadata": {},
   "outputs": [],
   "source": [
    "stats_df = stats_df.drop(columns = pos_cols)"
   ]
  },
  {
   "cell_type": "markdown",
   "metadata": {},
   "source": [
    "Now we consider another model. "
   ]
  },
  {
   "cell_type": "code",
   "execution_count": 155,
   "metadata": {},
   "outputs": [],
   "source": [
    "X_2 = stats_df.drop(columns = ['was_mvp'])\n",
    "y_2 = stats_df['was_mvp']\n",
    "X_2_train, X_2_test, y_2_train, y_2_test = train_test_split(X_2,y_2,train_size = 0.7, random_state = 23)"
   ]
  },
  {
   "cell_type": "code",
   "execution_count": 156,
   "metadata": {},
   "outputs": [
    {
     "data": {
      "text/plain": [
       "Pipeline(steps=[('standardscaler', StandardScaler()),\n",
       "                ('randomforestclassifier', RandomForestClassifier())])"
      ]
     },
     "execution_count": 156,
     "metadata": {},
     "output_type": "execute_result"
    }
   ],
   "source": [
    "#selector3 = SelectKBest(f_classif, k = 20)\n",
    "scaler3 = StandardScaler()\n",
    "random_classif3 = RFC(n_estimators=100)\n",
    "pipe3 = make_pipeline(scaler3, random_classif3)\n",
    "pipe3.fit(X_2_train, y_2_train)"
   ]
  },
  {
   "cell_type": "code",
   "execution_count": 157,
   "metadata": {},
   "outputs": [
    {
     "data": {
      "text/plain": [
       "<AxesSubplot:ylabel='cols'>"
      ]
     },
     "execution_count": 157,
     "metadata": {},
     "output_type": "execute_result"
    },
    {
     "data": {
      "image/png": "[encoded data removed]",
      "text/plain": [
       "<Figure size 1440x1440 with 1 Axes>"
      ]
     },
     "metadata": {
      "needs_background": "light"
     },
     "output_type": "display_data"
    }
   ],
   "source": [
    "plot_fi(rf_feat_importance(pipe3.steps[1][1], X_2_train))"
   ]
  },
  {
   "cell_type": "code",
   "execution_count": 158,
   "metadata": {},
   "outputs": [
    {
     "data": {
      "text/plain": [
       "0.5468565466157569"
      ]
     },
     "execution_count": 158,
     "metadata": {},
     "output_type": "execute_result"
    }
   ],
   "source": [
    "f1_score(y_2_test, pipe3.predict(X_2_test), average='macro')"
   ]
  },
  {
   "cell_type": "code",
   "execution_count": 159,
   "metadata": {},
   "outputs": [],
   "source": [
    "stats_df = pd.read_csv('NBA_Stats_MVP.csv')"
   ]
  },
  {
   "cell_type": "code",
   "execution_count": 160,
   "metadata": {},
   "outputs": [],
   "source": [
    "def replace_null(df):\n",
    "    \"\"\"\n",
    "    This function replaces null values in a dataframe with 0. \n",
    "    :param df: The original dataframe.\n",
    "    :return: A dataframe with null values replaced by 0.\n",
    "    \"\"\"\n",
    "    null = np.where((df.isna),1, 0)\n",
    "    df['had_null'] = null\n",
    "    df.fillna(0, inplace = True)\n",
    "    return df"
   ]
  },
  {
   "cell_type": "code",
   "execution_count": 161,
   "metadata": {},
   "outputs": [],
   "source": [
    "stats_df_filled = replace_null(stats_df)"
   ]
  },
  {
   "cell_type": "code",
   "execution_count": 162,
   "metadata": {},
   "outputs": [],
   "source": [
    "per_game_cols = ['PTS', 'AST', 'ORB', 'DRB', 'TRB', 'STL', 'BLK', 'TOV', 'PF', 'FGA', 'FG', 'FT', 'FTA', 'MP']\n",
    "stats_df_filled = per_game(stats_df_filled, per_game_cols)"
   ]
  },
  {
   "cell_type": "code",
   "execution_count": 163,
   "metadata": {},
   "outputs": [],
   "source": [
    "X = stats_df_filled.drop(columns = ['was_mvp', 'Pos', 'Name', 'Tm'])\n",
    "y = stats_df_filled['was_mvp']\n",
    "X_train, X_test, y_train, y_test = train_test_split(X,y,train_size = 0.7, random_state = 23)"
   ]
  },
  {
   "cell_type": "code",
   "execution_count": 164,
   "metadata": {},
   "outputs": [
    {
     "data": {
      "text/plain": [
       "RandomForestClassifier()"
      ]
     },
     "execution_count": 164,
     "metadata": {},
     "output_type": "execute_result"
    }
   ],
   "source": [
    "random_classif = RFC(n_estimators=100)\n",
    "random_classif.fit(X_train, y_train)"
   ]
  },
  {
   "cell_type": "code",
   "execution_count": 165,
   "metadata": {},
   "outputs": [
    {
     "data": {
      "text/plain": [
       "1.0"
      ]
     },
     "execution_count": 165,
     "metadata": {},
     "output_type": "execute_result"
    }
   ],
   "source": [
    "f1_score(y_train, random_classif.predict(X_train), average='macro')"
   ]
  },
  {
   "cell_type": "code",
   "execution_count": 166,
   "metadata": {},
   "outputs": [
    {
     "data": {
      "text/plain": [
       "0.4991974317817014"
      ]
     },
     "execution_count": 166,
     "metadata": {},
     "output_type": "execute_result"
    }
   ],
   "source": [
    "f1_score(y_test, random_classif.predict(X_test), average='macro')"
   ]
  },
  {
   "cell_type": "code",
   "execution_count": 167,
   "metadata": {},
   "outputs": [
    {
     "data": {
      "text/plain": [
       "<AxesSubplot:ylabel='cols'>"
      ]
     },
     "execution_count": 167,
     "metadata": {},
     "output_type": "execute_result"
    },
    {
     "data": {
      "image/png": "[encoded data removed]",
      "text/plain": [
       "<Figure size 1440x1440 with 1 Axes>"
      ]
     },
     "metadata": {
      "needs_background": "light"
     },
     "output_type": "display_data"
    }
   ],
   "source": [
    "fi = rf_feat_importance(random_classif, X_test)\n",
    "plot_fi(fi)"
   ]
  },
  {
   "cell_type": "code",
   "execution_count": 168,
   "metadata": {},
   "outputs": [],
   "source": [
    "keep = fi[fi.imp>0.03].cols"
   ]
  },
  {
   "cell_type": "code",
   "execution_count": 169,
   "metadata": {},
   "outputs": [
    {
     "data": {
      "text/plain": [
       "5"
      ]
     },
     "execution_count": 169,
     "metadata": {},
     "output_type": "execute_result"
    }
   ],
   "source": [
    "len(keep)"
   ]
  },
  {
   "cell_type": "code",
   "execution_count": 170,
   "metadata": {},
   "outputs": [],
   "source": [
    "important_X = X[keep]"
   ]
  },
  {
   "cell_type": "code",
   "execution_count": 171,
   "metadata": {},
   "outputs": [
    {
     "data": {
      "text/html": [
       "<div>\n",
       "<style scoped>\n",
       "    .dataframe tbody tr th:only-of-type {\n",
       "        vertical-align: middle;\n",
       "    }\n",
       "\n",
       "    .dataframe tbody tr th {\n",
       "        vertical-align: top;\n",
       "    }\n",
       "\n",
       "    .dataframe thead th {\n",
       "        text-align: right;\n",
       "    }\n",
       "</style>\n",
       "<table border=\"1\" class=\"dataframe\">\n",
       "  <thead>\n",
       "    <tr style=\"text-align: right;\">\n",
       "      <th></th>\n",
       "      <th>VORP</th>\n",
       "      <th>WS</th>\n",
       "      <th>OWS</th>\n",
       "      <th>WS/48</th>\n",
       "      <th>2P</th>\n",
       "    </tr>\n",
       "  </thead>\n",
       "  <tbody>\n",
       "    <tr>\n",
       "      <th>0</th>\n",
       "      <td>1.8</td>\n",
       "      <td>6.5</td>\n",
       "      <td>3.3</td>\n",
       "      <td>0.126</td>\n",
       "      <td>336.0</td>\n",
       "    </tr>\n",
       "    <tr>\n",
       "      <th>1</th>\n",
       "      <td>9.4</td>\n",
       "      <td>18.4</td>\n",
       "      <td>10.6</td>\n",
       "      <td>0.250</td>\n",
       "      <td>948.0</td>\n",
       "    </tr>\n",
       "    <tr>\n",
       "      <th>2</th>\n",
       "      <td>0.5</td>\n",
       "      <td>3.6</td>\n",
       "      <td>0.1</td>\n",
       "      <td>0.076</td>\n",
       "      <td>303.0</td>\n",
       "    </tr>\n",
       "    <tr>\n",
       "      <th>3</th>\n",
       "      <td>-0.2</td>\n",
       "      <td>0.7</td>\n",
       "      <td>-0.3</td>\n",
       "      <td>0.053</td>\n",
       "      <td>64.0</td>\n",
       "    </tr>\n",
       "    <tr>\n",
       "      <th>4</th>\n",
       "      <td>3.4</td>\n",
       "      <td>8.2</td>\n",
       "      <td>4.7</td>\n",
       "      <td>0.164</td>\n",
       "      <td>526.0</td>\n",
       "    </tr>\n",
       "    <tr>\n",
       "      <th>...</th>\n",
       "      <td>...</td>\n",
       "      <td>...</td>\n",
       "      <td>...</td>\n",
       "      <td>...</td>\n",
       "      <td>...</td>\n",
       "    </tr>\n",
       "    <tr>\n",
       "      <th>20792</th>\n",
       "      <td>1.8</td>\n",
       "      <td>5.6</td>\n",
       "      <td>3.4</td>\n",
       "      <td>0.157</td>\n",
       "      <td>253.0</td>\n",
       "    </tr>\n",
       "    <tr>\n",
       "      <th>20793</th>\n",
       "      <td>-0.1</td>\n",
       "      <td>1.0</td>\n",
       "      <td>0.5</td>\n",
       "      <td>0.094</td>\n",
       "      <td>78.0</td>\n",
       "    </tr>\n",
       "    <tr>\n",
       "      <th>20794</th>\n",
       "      <td>-0.1</td>\n",
       "      <td>0.0</td>\n",
       "      <td>-0.1</td>\n",
       "      <td>-0.005</td>\n",
       "      <td>10.0</td>\n",
       "    </tr>\n",
       "    <tr>\n",
       "      <th>20795</th>\n",
       "      <td>-0.4</td>\n",
       "      <td>0.5</td>\n",
       "      <td>-0.3</td>\n",
       "      <td>0.030</td>\n",
       "      <td>55.0</td>\n",
       "    </tr>\n",
       "    <tr>\n",
       "      <th>20796</th>\n",
       "      <td>-0.1</td>\n",
       "      <td>1.1</td>\n",
       "      <td>0.6</td>\n",
       "      <td>0.086</td>\n",
       "      <td>126.0</td>\n",
       "    </tr>\n",
       "  </tbody>\n",
       "</table>\n",
       "<p>20797 rows × 5 columns</p>\n",
       "</div>"
      ],
      "text/plain": [
       "       VORP    WS   OWS  WS/48     2P\n",
       "0       1.8   6.5   3.3  0.126  336.0\n",
       "1       9.4  18.4  10.6  0.250  948.0\n",
       "2       0.5   3.6   0.1  0.076  303.0\n",
       "3      -0.2   0.7  -0.3  0.053   64.0\n",
       "4       3.4   8.2   4.7  0.164  526.0\n",
       "...     ...   ...   ...    ...    ...\n",
       "20792   1.8   5.6   3.4  0.157  253.0\n",
       "20793  -0.1   1.0   0.5  0.094   78.0\n",
       "20794  -0.1   0.0  -0.1 -0.005   10.0\n",
       "20795  -0.4   0.5  -0.3  0.030   55.0\n",
       "20796  -0.1   1.1   0.6  0.086  126.0\n",
       "\n",
       "[20797 rows x 5 columns]"
      ]
     },
     "execution_count": 171,
     "metadata": {},
     "output_type": "execute_result"
    }
   ],
   "source": [
    "important_X"
   ]
  },
  {
   "cell_type": "code",
   "execution_count": 172,
   "metadata": {},
   "outputs": [],
   "source": [
    "X_train_imp, X_test_imp, y_train, y_test = train_test_split(important_X,y,train_size = 0.7, random_state = 23)"
   ]
  },
  {
   "cell_type": "code",
   "execution_count": 173,
   "metadata": {},
   "outputs": [
    {
     "data": {
      "text/plain": [
       "RandomForestClassifier()"
      ]
     },
     "execution_count": 173,
     "metadata": {},
     "output_type": "execute_result"
    }
   ],
   "source": [
    "random_classif2 = RFC(n_estimators=100)\n",
    "random_classif2.fit(X_train_imp, y_train)"
   ]
  },
  {
   "cell_type": "code",
   "execution_count": 174,
   "metadata": {},
   "outputs": [
    {
     "data": {
      "text/plain": [
       "1.0"
      ]
     },
     "execution_count": 174,
     "metadata": {},
     "output_type": "execute_result"
    }
   ],
   "source": [
    "f1_score(y_train, random_classif2.predict(X_train_imp), average='macro')"
   ]
  },
  {
   "cell_type": "code",
   "execution_count": 175,
   "metadata": {},
   "outputs": [
    {
     "data": {
      "text/plain": [
       "0.5901866635531751"
      ]
     },
     "execution_count": 175,
     "metadata": {},
     "output_type": "execute_result"
    }
   ],
   "source": [
    "f1_score(y_test, random_classif2.predict(X_test_imp), average='macro')"
   ]
  },
  {
   "cell_type": "markdown",
   "metadata": {},
   "source": [
    "We will now fit a gradient boosting classifier."
   ]
  },
  {
   "cell_type": "code",
   "execution_count": 176,
   "metadata": {},
   "outputs": [],
   "source": [
    "gbc = GBC()"
   ]
  },
  {
   "cell_type": "code",
   "execution_count": 177,
   "metadata": {},
   "outputs": [
    {
     "data": {
      "text/plain": [
       "GradientBoostingClassifier()"
      ]
     },
     "execution_count": 177,
     "metadata": {},
     "output_type": "execute_result"
    }
   ],
   "source": [
    "gbc.fit(X_train_imp, y_train)"
   ]
  },
  {
   "cell_type": "code",
   "execution_count": 178,
   "metadata": {},
   "outputs": [
    {
     "data": {
      "text/plain": [
       "0.8748280250395541"
      ]
     },
     "execution_count": 178,
     "metadata": {},
     "output_type": "execute_result"
    }
   ],
   "source": [
    "f1_score(y_train, gbc.predict(X_train_imp), average='macro')"
   ]
  },
  {
   "cell_type": "code",
   "execution_count": 179,
   "metadata": {},
   "outputs": [
    {
     "data": {
      "text/plain": [
       "0.629752435334071"
      ]
     },
     "execution_count": 179,
     "metadata": {},
     "output_type": "execute_result"
    }
   ],
   "source": [
    "f1_score(y_test, gbc.predict(X_test_imp), average='macro')"
   ]
  },
  {
   "cell_type": "markdown",
   "metadata": {},
   "source": [
    "Here we achieve our best score so far with a test f1_score of 62%."
   ]
  },
  {
   "cell_type": "markdown",
   "metadata": {},
   "source": [
    "Next we consider a KNN."
   ]
  },
  {
   "cell_type": "code",
   "execution_count": 180,
   "metadata": {},
   "outputs": [],
   "source": [
    "neighbors = KNeighborsClassifier(n_neighbors=5)"
   ]
  },
  {
   "cell_type": "code",
   "execution_count": 181,
   "metadata": {},
   "outputs": [
    {
     "data": {
      "text/plain": [
       "KNeighborsClassifier()"
      ]
     },
     "execution_count": 181,
     "metadata": {},
     "output_type": "execute_result"
    }
   ],
   "source": [
    "neighbors.fit(X_train_imp, y_train)"
   ]
  },
  {
   "cell_type": "code",
   "execution_count": 182,
   "metadata": {},
   "outputs": [
    {
     "data": {
      "text/plain": [
       "0.5995874020079769"
      ]
     },
     "execution_count": 182,
     "metadata": {},
     "output_type": "execute_result"
    }
   ],
   "source": [
    "f1_score(y_train, neighbors.predict(X_train_imp), average='macro')"
   ]
  },
  {
   "cell_type": "code",
   "execution_count": 183,
   "metadata": {},
   "outputs": [
    {
     "data": {
      "text/plain": [
       "0.5446518483924166"
      ]
     },
     "execution_count": 183,
     "metadata": {},
     "output_type": "execute_result"
    }
   ],
   "source": [
    "f1_score(y_test, neighbors.predict(X_test_imp), average='macro')"
   ]
  },
  {
   "cell_type": "markdown",
   "metadata": {},
   "source": [
    "Next, we consider a stacking classifier that uses a random forest, gradient boosting classifier, and a knn with k = 5. "
   ]
  },
  {
   "cell_type": "code",
   "execution_count": 184,
   "metadata": {},
   "outputs": [],
   "source": [
    "estimators = [('rf',RFC(n_estimators = 100)),('gbc', GBC()), (\"neighbors\",KNeighborsClassifier(n_neighbors=5))]"
   ]
  },
  {
   "cell_type": "code",
   "execution_count": 185,
   "metadata": {},
   "outputs": [],
   "source": [
    "stack = StackingClassifier(estimators=estimators, final_estimator=RFC())"
   ]
  },
  {
   "cell_type": "code",
   "execution_count": 186,
   "metadata": {},
   "outputs": [
    {
     "data": {
      "text/plain": [
       "StackingClassifier(estimators=[('rf', RandomForestClassifier()),\n",
       "                               ('gbc', GradientBoostingClassifier()),\n",
       "                               ('neighbors', KNeighborsClassifier())],\n",
       "                   final_estimator=RandomForestClassifier())"
      ]
     },
     "execution_count": 186,
     "metadata": {},
     "output_type": "execute_result"
    }
   ],
   "source": [
    "stack.fit(X_train_imp, y_train)"
   ]
  },
  {
   "cell_type": "code",
   "execution_count": 187,
   "metadata": {},
   "outputs": [
    {
     "data": {
      "text/plain": [
       "0.5945558574983087"
      ]
     },
     "execution_count": 187,
     "metadata": {},
     "output_type": "execute_result"
    }
   ],
   "source": [
    "f1_score(y_test, stack.predict(X_test_imp), average='macro')"
   ]
  },
  {
   "cell_type": "code",
   "execution_count": 188,
   "metadata": {},
   "outputs": [
    {
     "data": {
      "text/plain": [
       "0.9041005044105732"
      ]
     },
     "execution_count": 188,
     "metadata": {},
     "output_type": "execute_result"
    }
   ],
   "source": [
    "f1_score(y_train, stack.predict(X_train_imp), average='macro')"
   ]
  },
  {
   "cell_type": "markdown",
   "metadata": {},
   "source": [
    "We will now fit an Ada Boost Classifier."
   ]
  },
  {
   "cell_type": "code",
   "execution_count": 192,
   "metadata": {},
   "outputs": [],
   "source": [
    "abc = ABC()"
   ]
  },
  {
   "cell_type": "code",
   "execution_count": 193,
   "metadata": {},
   "outputs": [
    {
     "data": {
      "text/plain": [
       "AdaBoostClassifier()"
      ]
     },
     "execution_count": 193,
     "metadata": {},
     "output_type": "execute_result"
    }
   ],
   "source": [
    "abc.fit(X_train_imp,y_train)"
   ]
  },
  {
   "cell_type": "code",
   "execution_count": 194,
   "metadata": {},
   "outputs": [
    {
     "data": {
      "text/plain": [
       "0.6593175431553593"
      ]
     },
     "execution_count": 194,
     "metadata": {},
     "output_type": "execute_result"
    }
   ],
   "source": [
    "f1_score(y_test, abc.predict(X_test_imp), average='macro')"
   ]
  },
  {
   "cell_type": "code",
   "execution_count": 195,
   "metadata": {},
   "outputs": [
    {
     "data": {
      "text/plain": [
       "0.9791322622078489"
      ]
     },
     "execution_count": 195,
     "metadata": {},
     "output_type": "execute_result"
    }
   ],
   "source": [
    "f1_score(y_train, abc.predict(X_train_imp), average='macro')"
   ]
  },
  {
   "cell_type": "code",
   "execution_count": 196,
   "metadata": {},
   "outputs": [
    {
     "data": {
      "text/plain": [
       "array([[14532,     0],\n",
       "       [    2,    23]])"
      ]
     },
     "execution_count": 196,
     "metadata": {},
     "output_type": "execute_result"
    }
   ],
   "source": [
    "confusion_matrix(y_train, abc.predict(X_train_imp))"
   ]
  },
  {
   "cell_type": "code",
   "execution_count": 197,
   "metadata": {},
   "outputs": [
    {
     "data": {
      "text/plain": [
       "array([[6219,    2],\n",
       "       [  15,    4]])"
      ]
     },
     "execution_count": 197,
     "metadata": {},
     "output_type": "execute_result"
    }
   ],
   "source": [
    "confusion_matrix(y_test, abc.predict(X_test_imp))"
   ]
  },
  {
   "cell_type": "code",
   "execution_count": 198,
   "metadata": {},
   "outputs": [
    {
     "data": {
      "text/plain": [
       "0.9998626090540633"
      ]
     },
     "execution_count": 198,
     "metadata": {},
     "output_type": "execute_result"
    }
   ],
   "source": [
    "accuracy_score(y_train, abc.predict(X_train_imp))"
   ]
  },
  {
   "cell_type": "markdown",
   "metadata": {},
   "source": [
    "Now, we attempt to put this the Ada Booster in our stacked model. "
   ]
  },
  {
   "cell_type": "code",
   "execution_count": 199,
   "metadata": {},
   "outputs": [],
   "source": [
    "estimators = [('rf',RFC(n_estimators = 100)),('gbc', GBC()), (\"neighbors\",KNeighborsClassifier(n_neighbors=5)), \n",
    "              (\"abc\", ABC())]"
   ]
  },
  {
   "cell_type": "code",
   "execution_count": 200,
   "metadata": {},
   "outputs": [],
   "source": [
    "stack = StackingClassifier(estimators=estimators, final_estimator=RFC())"
   ]
  },
  {
   "cell_type": "code",
   "execution_count": 201,
   "metadata": {},
   "outputs": [
    {
     "data": {
      "text/plain": [
       "StackingClassifier(estimators=[('rf', RandomForestClassifier()),\n",
       "                               ('gbc', GradientBoostingClassifier()),\n",
       "                               ('neighbors', KNeighborsClassifier()),\n",
       "                               ('abc', AdaBoostClassifier())],\n",
       "                   final_estimator=RandomForestClassifier())"
      ]
     },
     "execution_count": 201,
     "metadata": {},
     "output_type": "execute_result"
    }
   ],
   "source": [
    "stack.fit(X_train_imp, y_train)"
   ]
  },
  {
   "cell_type": "code",
   "execution_count": 202,
   "metadata": {},
   "outputs": [
    {
     "data": {
      "text/plain": [
       "0.5901866635531751"
      ]
     },
     "execution_count": 202,
     "metadata": {},
     "output_type": "execute_result"
    }
   ],
   "source": [
    "f1_score(y_test, stack.predict(X_test_imp), average='macro')"
   ]
  },
  {
   "cell_type": "markdown",
   "metadata": {},
   "source": [
    "Fitting again without the knn."
   ]
  },
  {
   "cell_type": "code",
   "execution_count": 203,
   "metadata": {},
   "outputs": [],
   "source": [
    "estimators = [('rf',RFC(n_estimators = 100)),('gbc', GBC()), \n",
    "              (\"abc\", ABC())]"
   ]
  },
  {
   "cell_type": "code",
   "execution_count": 204,
   "metadata": {},
   "outputs": [],
   "source": [
    "stack = StackingClassifier(estimators=estimators, final_estimator=RFC())"
   ]
  },
  {
   "cell_type": "code",
   "execution_count": 205,
   "metadata": {},
   "outputs": [
    {
     "data": {
      "text/plain": [
       "StackingClassifier(estimators=[('rf', RandomForestClassifier()),\n",
       "                               ('gbc', GradientBoostingClassifier()),\n",
       "                               ('abc', AdaBoostClassifier())],\n",
       "                   final_estimator=RandomForestClassifier())"
      ]
     },
     "execution_count": 205,
     "metadata": {},
     "output_type": "execute_result"
    }
   ],
   "source": [
    "stack.fit(X_train_imp, y_train)"
   ]
  },
  {
   "cell_type": "code",
   "execution_count": 206,
   "metadata": {},
   "outputs": [
    {
     "data": {
      "text/plain": [
       "0.5945558574983087"
      ]
     },
     "execution_count": 206,
     "metadata": {},
     "output_type": "execute_result"
    }
   ],
   "source": [
    "f1_score(y_test, stack.predict(X_test_imp), average='macro')"
   ]
  },
  {
   "cell_type": "markdown",
   "metadata": {},
   "source": [
    "Fitting again without the GBC."
   ]
  },
  {
   "cell_type": "code",
   "execution_count": 207,
   "metadata": {},
   "outputs": [],
   "source": [
    "estimators = [('rf',RFC(n_estimators = 100)), (\"neighbors\",KNeighborsClassifier(n_neighbors=5)), \n",
    "              (\"abc\", ABC())]"
   ]
  },
  {
   "cell_type": "code",
   "execution_count": 208,
   "metadata": {},
   "outputs": [
    {
     "data": {
      "text/plain": [
       "StackingClassifier(estimators=[('rf', RandomForestClassifier()),\n",
       "                               ('gbc', GradientBoostingClassifier()),\n",
       "                               ('abc', AdaBoostClassifier())],\n",
       "                   final_estimator=RandomForestClassifier())"
      ]
     },
     "execution_count": 208,
     "metadata": {},
     "output_type": "execute_result"
    }
   ],
   "source": [
    "stack.fit(X_train_imp, y_train)"
   ]
  },
  {
   "cell_type": "code",
   "execution_count": 209,
   "metadata": {},
   "outputs": [],
   "source": [
    "stack = StackingClassifier(estimators=estimators, final_estimator=RFC())"
   ]
  },
  {
   "cell_type": "code",
   "execution_count": 210,
   "metadata": {},
   "outputs": [
    {
     "data": {
      "text/plain": [
       "StackingClassifier(estimators=[('rf', RandomForestClassifier()),\n",
       "                               ('neighbors', KNeighborsClassifier()),\n",
       "                               ('abc', AdaBoostClassifier())],\n",
       "                   final_estimator=RandomForestClassifier())"
      ]
     },
     "execution_count": 210,
     "metadata": {},
     "output_type": "execute_result"
    }
   ],
   "source": [
    "stack.fit(X_train_imp, y_train)"
   ]
  },
  {
   "cell_type": "code",
   "execution_count": 211,
   "metadata": {},
   "outputs": [
    {
     "data": {
      "text/plain": [
       "0.6531234944596114"
      ]
     },
     "execution_count": 211,
     "metadata": {},
     "output_type": "execute_result"
    }
   ],
   "source": [
    "f1_score(y_test, stack.predict(X_test_imp), average='macro')"
   ]
  },
  {
   "cell_type": "markdown",
   "metadata": {},
   "source": [
    "Fitting again without knn or gbc."
   ]
  },
  {
   "cell_type": "code",
   "execution_count": 212,
   "metadata": {},
   "outputs": [],
   "source": [
    "estimators = [('rf',RFC(n_estimators = 100)), \n",
    "              (\"abc\", ABC())]"
   ]
  },
  {
   "cell_type": "code",
   "execution_count": 213,
   "metadata": {},
   "outputs": [],
   "source": [
    "stack = StackingClassifier(estimators=estimators, final_estimator=RFC())"
   ]
  },
  {
   "cell_type": "code",
   "execution_count": 214,
   "metadata": {},
   "outputs": [
    {
     "data": {
      "text/plain": [
       "StackingClassifier(estimators=[('rf', RandomForestClassifier()),\n",
       "                               ('abc', AdaBoostClassifier())],\n",
       "                   final_estimator=RandomForestClassifier())"
      ]
     },
     "execution_count": 214,
     "metadata": {},
     "output_type": "execute_result"
    }
   ],
   "source": [
    "stack.fit(X_train_imp, y_train)"
   ]
  },
  {
   "cell_type": "code",
   "execution_count": 215,
   "metadata": {},
   "outputs": [
    {
     "data": {
      "text/plain": [
       "0.6357214787139334"
      ]
     },
     "execution_count": 215,
     "metadata": {},
     "output_type": "execute_result"
    }
   ],
   "source": [
    "f1_score(y_test, stack.predict(X_test_imp), average='macro')"
   ]
  },
  {
   "cell_type": "code",
   "execution_count": 216,
   "metadata": {},
   "outputs": [],
   "source": [
    "estimators = [('gbc', GBC()), (\"neighbors\",KNeighborsClassifier(n_neighbors=5)), \n",
    "              (\"abc\", ABC())]"
   ]
  },
  {
   "cell_type": "markdown",
   "metadata": {},
   "source": [
    "Fitting again without Random Forest."
   ]
  },
  {
   "cell_type": "code",
   "execution_count": 217,
   "metadata": {},
   "outputs": [
    {
     "data": {
      "text/plain": [
       "StackingClassifier(estimators=[('gbc', GradientBoostingClassifier()),\n",
       "                               ('neighbors', KNeighborsClassifier()),\n",
       "                               ('abc', AdaBoostClassifier())],\n",
       "                   final_estimator=AdaBoostClassifier())"
      ]
     },
     "execution_count": 217,
     "metadata": {},
     "output_type": "execute_result"
    }
   ],
   "source": [
    "stack = StackingClassifier(estimators=estimators, final_estimator=ABC())\n",
    "stack.fit(X_train_imp, y_train)"
   ]
  },
  {
   "cell_type": "code",
   "execution_count": 218,
   "metadata": {},
   "outputs": [
    {
     "data": {
      "text/plain": [
       "0.5492776886035313"
      ]
     },
     "execution_count": 218,
     "metadata": {},
     "output_type": "execute_result"
    }
   ],
   "source": [
    "f1_score(y_test, stack.predict(X_test_imp), average='macro')"
   ]
  },
  {
   "cell_type": "code",
   "execution_count": null,
   "metadata": {},
   "outputs": [],
   "source": []
  }
 ],
 "metadata": {
  "kernelspec": {
   "display_name": "Python 3",
   "language": "python",
   "name": "python3"
  },
  "language_info": {
   "codemirror_mode": {
    "name": "ipython",
    "version": 3
   },
   "file_extension": ".py",
   "mimetype": "text/x-python",
   "name": "python",
   "nbconvert_exporter": "python",
   "pygments_lexer": "ipython3",
   "version": "3.8.6"
  }
 },
 "nbformat": 4,
 "nbformat_minor": 2
}
